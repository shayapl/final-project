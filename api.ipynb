{
 "cells": [
  {
   "cell_type": "code",
   "execution_count": 4,
   "id": "3b4868f2",
   "metadata": {},
   "outputs": [],
   "source": [
    "import pandas as pd\n",
    "from pandas import Series, DataFrame\n",
    "from pandas import read_html\n",
    "import sqlalchemy \n",
    "from sqlalchemy import create_engine\n",
    "import psycopg2\n",
    "import currencyapicom\n"
   ]
  },
  {
   "cell_type": "code",
   "execution_count": 11,
   "id": "4ab2f655",
   "metadata": {},
   "outputs": [],
   "source": [
    "#importing dates from invoice table\n",
    "host = 'localhost'\n",
    "database = 'chinook'\n",
    "user = 'postgres'\n",
    "password = 'postgres'\n",
    "\n",
    "connection = psycopg2.connect(host=host, database=database, user=user, password=password)\n",
    "cursor = connection.cursor()\n",
    "query = \"\"\"\n",
    "    SELECT DISTINCT DATE_TRUNC('day', d.invoicedate) AS invoice_date\n",
    "    FROM stg.invoice d\n",
    "    WHERE d.invoicedate >= '2022-11-01'::date\n",
    "    ;\n",
    "\"\"\"\n",
    "cursor.execute(query)\n",
    "dates_from_database = [date[0] for date in cursor.fetchall()]\n",
    "cursor.close()\n",
    "connection.close()\n"
   ]
  },
  {
   "cell_type": "code",
   "execution_count": 18,
   "id": "a822a04f",
   "metadata": {
    "scrolled": true
   },
   "outputs": [
    {
     "name": "stdout",
     "output_type": "stream",
     "text": [
      "         Date Currency      Rate\n",
      "0  2022-11-25      ILS  3.422285\n",
      "1  2022-12-05      ILS  3.401444\n",
      "2  2022-11-24      ILS  3.419938\n",
      "3  2022-12-17      ILS  3.463707\n",
      "4  2022-11-29      ILS  3.437551\n",
      "5  2022-12-13      ILS  3.399205\n",
      "6  2022-11-16      ILS  3.432195\n",
      "7  2022-11-18      ILS  3.466650\n",
      "8  2022-12-12      ILS  3.437854\n",
      "9  2022-11-01      ILS  3.536732\n",
      "10 2022-11-08      ILS  3.534891\n",
      "11 2022-12-14      ILS  3.399255\n",
      "12 2022-12-09      ILS  3.419105\n",
      "13 2022-11-06      ILS  3.548679\n",
      "14 2022-11-28      ILS  3.433037\n",
      "15 2022-11-21      ILS  3.475548\n",
      "16 2022-12-08      ILS  3.433645\n",
      "17 2022-12-04      ILS  3.407240\n",
      "18 2022-11-05      ILS  3.548694\n",
      "19 2022-11-12      ILS  3.416301\n"
     ]
    }
   ],
   "source": [
    "#importing ILS values and creating dataframe\n",
    "api_key = 'cur_live_RcMFHRI0zjSZyTuoSGSBKStpw9G8eXwzLd1nzGSj'\n",
    "client = currencyapicom.Client(api_key)\n",
    "data_list = []\n",
    "for date in dates_from_database:\n",
    "    result = client.historical(date.strftime('%Y-%m-%d'), currencies=['USD', 'ILS'])\n",
    "\n",
    "    usd_to_nis_rate = result.get('data', {}).get('ILS', {}).get('value', None)\n",
    "\n",
    "    \n",
    "    if usd_to_nis_rate is not None:\n",
    "        \n",
    "        data_list.append({'Date': date, 'Currency': 'ILS', 'Rate': usd_to_nis_rate})\n",
    "\n",
    "\n",
    "df_results = pd.DataFrame(data_list)\n",
    "print(df_results)"
   ]
  },
  {
   "cell_type": "code",
   "execution_count": 19,
   "id": "a67e2b8c",
   "metadata": {},
   "outputs": [
    {
     "data": {
      "text/plain": [
       "20"
      ]
     },
     "execution_count": 19,
     "metadata": {},
     "output_type": "execute_result"
    }
   ],
   "source": [
    "# exporting the data to a table in chinook database\n",
    "username = 'postgres'\n",
    "password = 'postgres'\n",
    "host = 'localhost'\n",
    "port = '5432'\n",
    "database = 'chinook'\n",
    "\n",
    "connection_string = f'postgresql://{username}:{password}@{host}:{port}/{database}'\n",
    "\n",
    "engine = create_engine(connection_string)\n",
    "\n",
    "schema_name = 'stg'\n",
    "table_name = 'currency'\n",
    "\n",
    "df_results.to_sql(table_name, engine, schema=schema_name, index=False, if_exists='replace')\n",
    "\n"
   ]
  },
  {
   "cell_type": "code",
   "execution_count": null,
   "id": "7892ca1b",
   "metadata": {},
   "outputs": [],
   "source": []
  }
 ],
 "metadata": {
  "kernelspec": {
   "display_name": "Python 3 (ipykernel)",
   "language": "python",
   "name": "python3"
  },
  "language_info": {
   "codemirror_mode": {
    "name": "ipython",
    "version": 3
   },
   "file_extension": ".py",
   "mimetype": "text/x-python",
   "name": "python",
   "nbconvert_exporter": "python",
   "pygments_lexer": "ipython3",
   "version": "3.11.5"
  }
 },
 "nbformat": 4,
 "nbformat_minor": 5
}
